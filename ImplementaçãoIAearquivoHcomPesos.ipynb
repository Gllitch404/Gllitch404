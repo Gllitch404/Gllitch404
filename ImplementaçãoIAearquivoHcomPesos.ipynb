{
  "nbformat": 4,
  "nbformat_minor": 0,
  "metadata": {
    "colab": {
      "provenance": [],
      "authorship_tag": "ABX9TyN2F55i4I3wvQjNQitDhgkS",
      "include_colab_link": true
    },
    "kernelspec": {
      "name": "python3",
      "display_name": "Python 3"
    },
    "language_info": {
      "name": "python"
    }
  },
  "cells": [
    {
      "cell_type": "markdown",
      "metadata": {
        "id": "view-in-github",
        "colab_type": "text"
      },
      "source": [
        "<a href=\"https://colab.research.google.com/github/Gllitch404/Gllitch404/blob/main/Implementa%C3%A7%C3%A3oIAearquivoHcomPesos.ipynb\" target=\"_parent\"><img src=\"https://colab.research.google.com/assets/colab-badge.svg\" alt=\"Open In Colab\"/></a>"
      ]
    },
    {
      "cell_type": "markdown",
      "source": [
        "TensorFlow"
      ],
      "metadata": {
        "id": "nJ8R2C56BGih"
      }
    },
    {
      "cell_type": "markdown",
      "source": [
        "Instalando o tensorFlow"
      ],
      "metadata": {
        "id": "yGeaAPGOYJLb"
      }
    },
    {
      "cell_type": "code",
      "execution_count": null,
      "metadata": {
        "colab": {
          "base_uri": "https://localhost:8080/"
        },
        "id": "ZqxoTJXFBABo",
        "outputId": "885c2a61-2d49-49d0-8fb4-0d9a93771d4c"
      },
      "outputs": [
        {
          "output_type": "stream",
          "name": "stdout",
          "text": [
            "Requirement already satisfied: tensorflow in /usr/local/lib/python3.11/dist-packages (2.18.0)\n",
            "Requirement already satisfied: absl-py>=1.0.0 in /usr/local/lib/python3.11/dist-packages (from tensorflow) (1.4.0)\n",
            "Requirement already satisfied: astunparse>=1.6.0 in /usr/local/lib/python3.11/dist-packages (from tensorflow) (1.6.3)\n",
            "Requirement already satisfied: flatbuffers>=24.3.25 in /usr/local/lib/python3.11/dist-packages (from tensorflow) (25.2.10)\n",
            "Requirement already satisfied: gast!=0.5.0,!=0.5.1,!=0.5.2,>=0.2.1 in /usr/local/lib/python3.11/dist-packages (from tensorflow) (0.6.0)\n",
            "Requirement already satisfied: google-pasta>=0.1.1 in /usr/local/lib/python3.11/dist-packages (from tensorflow) (0.2.0)\n",
            "Requirement already satisfied: libclang>=13.0.0 in /usr/local/lib/python3.11/dist-packages (from tensorflow) (18.1.1)\n",
            "Requirement already satisfied: opt-einsum>=2.3.2 in /usr/local/lib/python3.11/dist-packages (from tensorflow) (3.4.0)\n",
            "Requirement already satisfied: packaging in /usr/local/lib/python3.11/dist-packages (from tensorflow) (24.2)\n",
            "Requirement already satisfied: protobuf!=4.21.0,!=4.21.1,!=4.21.2,!=4.21.3,!=4.21.4,!=4.21.5,<6.0.0dev,>=3.20.3 in /usr/local/lib/python3.11/dist-packages (from tensorflow) (5.29.4)\n",
            "Requirement already satisfied: requests<3,>=2.21.0 in /usr/local/lib/python3.11/dist-packages (from tensorflow) (2.32.3)\n",
            "Requirement already satisfied: setuptools in /usr/local/lib/python3.11/dist-packages (from tensorflow) (75.2.0)\n",
            "Requirement already satisfied: six>=1.12.0 in /usr/local/lib/python3.11/dist-packages (from tensorflow) (1.17.0)\n",
            "Requirement already satisfied: termcolor>=1.1.0 in /usr/local/lib/python3.11/dist-packages (from tensorflow) (3.1.0)\n",
            "Requirement already satisfied: typing-extensions>=3.6.6 in /usr/local/lib/python3.11/dist-packages (from tensorflow) (4.13.2)\n",
            "Requirement already satisfied: wrapt>=1.11.0 in /usr/local/lib/python3.11/dist-packages (from tensorflow) (1.17.2)\n",
            "Requirement already satisfied: grpcio<2.0,>=1.24.3 in /usr/local/lib/python3.11/dist-packages (from tensorflow) (1.71.0)\n",
            "Requirement already satisfied: tensorboard<2.19,>=2.18 in /usr/local/lib/python3.11/dist-packages (from tensorflow) (2.18.0)\n",
            "Requirement already satisfied: keras>=3.5.0 in /usr/local/lib/python3.11/dist-packages (from tensorflow) (3.8.0)\n",
            "Requirement already satisfied: numpy<2.1.0,>=1.26.0 in /usr/local/lib/python3.11/dist-packages (from tensorflow) (2.0.2)\n",
            "Requirement already satisfied: h5py>=3.11.0 in /usr/local/lib/python3.11/dist-packages (from tensorflow) (3.13.0)\n",
            "Requirement already satisfied: ml-dtypes<0.5.0,>=0.4.0 in /usr/local/lib/python3.11/dist-packages (from tensorflow) (0.4.1)\n",
            "Requirement already satisfied: tensorflow-io-gcs-filesystem>=0.23.1 in /usr/local/lib/python3.11/dist-packages (from tensorflow) (0.37.1)\n",
            "Requirement already satisfied: wheel<1.0,>=0.23.0 in /usr/local/lib/python3.11/dist-packages (from astunparse>=1.6.0->tensorflow) (0.45.1)\n",
            "Requirement already satisfied: rich in /usr/local/lib/python3.11/dist-packages (from keras>=3.5.0->tensorflow) (13.9.4)\n",
            "Requirement already satisfied: namex in /usr/local/lib/python3.11/dist-packages (from keras>=3.5.0->tensorflow) (0.0.9)\n",
            "Requirement already satisfied: optree in /usr/local/lib/python3.11/dist-packages (from keras>=3.5.0->tensorflow) (0.15.0)\n",
            "Requirement already satisfied: charset-normalizer<4,>=2 in /usr/local/lib/python3.11/dist-packages (from requests<3,>=2.21.0->tensorflow) (3.4.2)\n",
            "Requirement already satisfied: idna<4,>=2.5 in /usr/local/lib/python3.11/dist-packages (from requests<3,>=2.21.0->tensorflow) (3.10)\n",
            "Requirement already satisfied: urllib3<3,>=1.21.1 in /usr/local/lib/python3.11/dist-packages (from requests<3,>=2.21.0->tensorflow) (2.4.0)\n",
            "Requirement already satisfied: certifi>=2017.4.17 in /usr/local/lib/python3.11/dist-packages (from requests<3,>=2.21.0->tensorflow) (2025.4.26)\n",
            "Requirement already satisfied: markdown>=2.6.8 in /usr/local/lib/python3.11/dist-packages (from tensorboard<2.19,>=2.18->tensorflow) (3.8)\n",
            "Requirement already satisfied: tensorboard-data-server<0.8.0,>=0.7.0 in /usr/local/lib/python3.11/dist-packages (from tensorboard<2.19,>=2.18->tensorflow) (0.7.2)\n",
            "Requirement already satisfied: werkzeug>=1.0.1 in /usr/local/lib/python3.11/dist-packages (from tensorboard<2.19,>=2.18->tensorflow) (3.1.3)\n",
            "Requirement already satisfied: MarkupSafe>=2.1.1 in /usr/local/lib/python3.11/dist-packages (from werkzeug>=1.0.1->tensorboard<2.19,>=2.18->tensorflow) (3.0.2)\n",
            "Requirement already satisfied: markdown-it-py>=2.2.0 in /usr/local/lib/python3.11/dist-packages (from rich->keras>=3.5.0->tensorflow) (3.0.0)\n",
            "Requirement already satisfied: pygments<3.0.0,>=2.13.0 in /usr/local/lib/python3.11/dist-packages (from rich->keras>=3.5.0->tensorflow) (2.19.1)\n",
            "Requirement already satisfied: mdurl~=0.1 in /usr/local/lib/python3.11/dist-packages (from markdown-it-py>=2.2.0->rich->keras>=3.5.0->tensorflow) (0.1.2)\n"
          ]
        }
      ],
      "source": [
        "!pip install tensorflow"
      ]
    },
    {
      "cell_type": "markdown",
      "source": [
        "Area de trinamento"
      ],
      "metadata": {
        "id": "3GiNM4moYDvF"
      }
    },
    {
      "cell_type": "code",
      "source": [
        "import tensorflow as tf\n",
        "from tensorflow import keras\n",
        "from tensorflow.keras import layers, models  # Import layers and models from tensorflow.keras\n",
        "from tensorflow.keras.datasets import cifar10\n",
        "import matplotlib.pyplot as plt\n",
        "\n",
        "(x_train, y_train), (x_test, y_test) = cifar10.load_data() # Dataset\n",
        "\n",
        "x_train = x_train / 255.0  # Normaliza a data\n",
        "x_test = x_test / 255.0    # Normaliza a data\n",
        "\n",
        "\n",
        "\n",
        "\n",
        "model = keras.Sequential([ #Cria o modelo\n",
        "    # Bloco 1\n",
        "    layers.Conv2D(32, (3, 3), activation='relu', padding='same', input_shape=(32, 32, 3)),\n",
        "    layers.Conv2D(32, (3, 3), activation='relu', padding='same'),\n",
        "    layers.MaxPooling2D(pool_size=(2, 2)),\n",
        "\n",
        "    # Bloco 2\n",
        "    layers.Conv2D(64, (3, 3), activation='relu', padding='same'),\n",
        "    layers.Conv2D(64, (3, 3), activation='relu', padding='same'),\n",
        "    layers.MaxPooling2D(pool_size=(2, 2)),\n",
        "\n",
        "    # Bloco 3\n",
        "    layers.Conv2D(128, (3, 3), activation='relu', padding='same'),\n",
        "    layers.Conv2D(128, (3, 3), activation='relu', padding='same'),\n",
        "    layers.MaxPooling2D(pool_size=(2, 2)),\n",
        "\n",
        "    # Camadas finais\n",
        "    layers.Flatten(),\n",
        "    layers.Dense(128, activation='relu'),\n",
        "    layers.Dropout(0.5),  # ajuda contra overfitting\n",
        "    layers.Dense(10, activation='softmax')  # saída CIFAR-10 tem 10 classes\n",
        "])\n",
        "\n",
        "model.compile(optimizer='adam',\n",
        "              loss=tf.keras.losses.SparseCategoricalCrossentropy(from_logits=True),\n",
        "              metrics=['accuracy'])\n",
        "\n",
        "history = model.fit(x_train, y_train, epochs=10, batch_size=64,\n",
        "                    validation_data=(x_test, y_test))\n",
        "\n",
        "\n",
        "test_loss, test_acc = model.evaluate(x_test, y_test, verbose=2)\n",
        "print(f'\\nAcurácia no teste: {test_acc:.2f}')\n",
        "\n",
        "\n",
        "\n",
        "\n",
        "plt.plot(history.history['accuracy'], label='Treinamento')\n",
        "plt.plot(history.history['val_accuracy'], label='Validação')\n",
        "plt.xlabel('Época')\n",
        "plt.ylabel('Acurácia')\n",
        "plt.legend()\n",
        "plt.grid(True)\n",
        "plt.show()\n",
        "\n",
        "print(tf.__version__)\n"
      ],
      "metadata": {
        "colab": {
          "base_uri": "https://localhost:8080/",
          "height": 867
        },
        "id": "41pbjwawCw7_",
        "outputId": "f45de51b-6ed6-4aa5-82f4-f74678d447f7"
      },
      "execution_count": 17,
      "outputs": [
        {
          "output_type": "stream",
          "name": "stdout",
          "text": [
            "Epoch 1/10\n",
            "\u001b[1m782/782\u001b[0m \u001b[32m━━━━━━━━━━━━━━━━━━━━\u001b[0m\u001b[37m\u001b[0m \u001b[1m376s\u001b[0m 477ms/step - accuracy: 0.2618 - loss: 1.9669 - val_accuracy: 0.5067 - val_loss: 1.3207\n",
            "Epoch 2/10\n",
            "\u001b[1m782/782\u001b[0m \u001b[32m━━━━━━━━━━━━━━━━━━━━\u001b[0m\u001b[37m\u001b[0m \u001b[1m378s\u001b[0m 472ms/step - accuracy: 0.5302 - loss: 1.3039 - val_accuracy: 0.6106 - val_loss: 1.0842\n",
            "Epoch 3/10\n",
            "\u001b[1m782/782\u001b[0m \u001b[32m━━━━━━━━━━━━━━━━━━━━\u001b[0m\u001b[37m\u001b[0m \u001b[1m389s\u001b[0m 481ms/step - accuracy: 0.6304 - loss: 1.0530 - val_accuracy: 0.6958 - val_loss: 0.8707\n",
            "Epoch 4/10\n",
            "\u001b[1m782/782\u001b[0m \u001b[32m━━━━━━━━━━━━━━━━━━━━\u001b[0m\u001b[37m\u001b[0m \u001b[1m389s\u001b[0m 490ms/step - accuracy: 0.6933 - loss: 0.8837 - val_accuracy: 0.7254 - val_loss: 0.7970\n",
            "Epoch 5/10\n",
            "\u001b[1m782/782\u001b[0m \u001b[32m━━━━━━━━━━━━━━━━━━━━\u001b[0m\u001b[37m\u001b[0m \u001b[1m424s\u001b[0m 467ms/step - accuracy: 0.7346 - loss: 0.7742 - val_accuracy: 0.7369 - val_loss: 0.7694\n",
            "Epoch 6/10\n",
            "\u001b[1m782/782\u001b[0m \u001b[32m━━━━━━━━━━━━━━━━━━━━\u001b[0m\u001b[37m\u001b[0m \u001b[1m383s\u001b[0m 468ms/step - accuracy: 0.7646 - loss: 0.6822 - val_accuracy: 0.7554 - val_loss: 0.7111\n",
            "Epoch 7/10\n",
            "\u001b[1m782/782\u001b[0m \u001b[32m━━━━━━━━━━━━━━━━━━━━\u001b[0m\u001b[37m\u001b[0m \u001b[1m385s\u001b[0m 472ms/step - accuracy: 0.7955 - loss: 0.5949 - val_accuracy: 0.7657 - val_loss: 0.6934\n",
            "Epoch 8/10\n",
            "\u001b[1m782/782\u001b[0m \u001b[32m━━━━━━━━━━━━━━━━━━━━\u001b[0m\u001b[37m\u001b[0m \u001b[1m380s\u001b[0m 470ms/step - accuracy: 0.8121 - loss: 0.5385 - val_accuracy: 0.7798 - val_loss: 0.6603\n",
            "Epoch 9/10\n",
            "\u001b[1m782/782\u001b[0m \u001b[32m━━━━━━━━━━━━━━━━━━━━\u001b[0m\u001b[37m\u001b[0m \u001b[1m381s\u001b[0m 468ms/step - accuracy: 0.8290 - loss: 0.4909 - val_accuracy: 0.7781 - val_loss: 0.6806\n",
            "Epoch 10/10\n",
            "\u001b[1m782/782\u001b[0m \u001b[32m━━━━━━━━━━━━━━━━━━━━\u001b[0m\u001b[37m\u001b[0m \u001b[1m368s\u001b[0m 471ms/step - accuracy: 0.8527 - loss: 0.4257 - val_accuracy: 0.7782 - val_loss: 0.7046\n",
            "313/313 - 21s - 66ms/step - accuracy: 0.7782 - loss: 0.7046\n",
            "\n",
            "Acurácia no teste: 0.78\n"
          ]
        },
        {
          "output_type": "display_data",
          "data": {
            "text/plain": [
              "<Figure size 640x480 with 1 Axes>"
            ],
            "image/png": "[encoded data removed]"
          },
          "metadata": {}
        },
        {
          "output_type": "stream",
          "name": "stdout",
          "text": [
            "2.18.0\n"
          ]
        }
      ]
    },
    {
      "cell_type": "markdown",
      "source": [
        "Area de testes"
      ],
      "metadata": {
        "id": "gQiQyFXBYAnN"
      }
    },
    {
      "cell_type": "code",
      "source": [
        "import numpy as np\n",
        "import matplotlib.pyplot as plt\n",
        "\n",
        "class_names = ['avião', 'automóvel', 'pássaro', 'gato', 'cervo',\n",
        "               'cachorro', 'sapo', 'cavalo', 'navio', 'caminhão']\n",
        "\n",
        "# Escolhe uma imagem do conjunto de teste (exemplo: índice 0)\n",
        "img_index = -1\n",
        "img = x_test[img_index]\n",
        "true_label = y_test[img_index][0]\n",
        "# Faz predição (o modelo espera uma batch, então usamos expand_dims)\n",
        "predictions = model.predict(np.expand_dims(img, axis=0))\n",
        "predicted_class = np.argmax(predictions)\n",
        "\n",
        "\n",
        "\n",
        "# Mostra a imagem e o resultado\n",
        "plt.imshow(img)\n",
        "plt.title(f'Previsto: {class_names[predicted_class]}\\nCorreto: {class_names[true_label]}')\n",
        "plt.axis('off')\n",
        "plt.show()"
      ],
      "metadata": {
        "colab": {
          "base_uri": "https://localhost:8080/",
          "height": 466
        },
        "id": "u3db4_g1YAIY",
        "outputId": "3b77317a-a082-43f7-a3d2-99e3e0781e81"
      },
      "execution_count": 23,
      "outputs": [
        {
          "output_type": "stream",
          "name": "stdout",
          "text": [
            "\u001b[1m1/1\u001b[0m \u001b[32m━━━━━━━━━━━━━━━━━━━━\u001b[0m\u001b[37m\u001b[0m \u001b[1m0s\u001b[0m 45ms/step\n"
          ]
        },
        {
          "output_type": "display_data",
          "data": {
            "text/plain": [
              "<Figure size 640x480 with 1 Axes>"
            ],
            "image/png": "[encoded data removed]"
          },
          "metadata": {}
        }
      ]
    },
    {
      "cell_type": "markdown",
      "source": [
        "Codigo gerador dos .h com os bias e os pesos"
      ],
      "metadata": {
        "id": "pTr8GeJ2juwo"
      }
    },
    {
      "cell_type": "code",
      "source": [
        "import numpy as np\n",
        "import os\n",
        "\n",
        "# Criando a pasta e o arquivo onde os dados vão ficar\n",
        "saida = \"pesos_cnn\"\n",
        "os.makedirs(saida, exist_ok=True)\n",
        "\n",
        "header_path = os.path.join(saida, \"pesos_cnn.h\")\n",
        "\n",
        "def format_array_float(name, array): # Metodo para criar os arrays com pesos e bias\n",
        "    flat = array.flatten()\n",
        "    valores = ', '.join(f'{v:.8f}' for v in flat)\n",
        "    return f\"float {name}[{len(flat)}] = {{ {valores} }};\\n\"\n",
        "\n",
        "def format_array_int(name, shape): # Esse é para criar os vetores com os shapes\n",
        "    valores = ', '.join(str(v) for v in shape)\n",
        "    return f\"int {name}[{len(shape)}] = {{ {valores} }};\\n\"\n",
        "\n",
        "# Abre o arquivo criado lá em cima e escreve os valores da CNN no arquivo\n",
        "with open(header_path, \"w\") as hfile:\n",
        "    hfile.write(\"// Arquivo gerado automaticamente com pesos, bias e shapes da CNN\\n\") # Comentario\n",
        "    hfile.write(\"#pragma once\\n\\n\") # Essa parte evita que o compilador crie duas vezes caso seja chamado mais de uma vez\n",
        "\n",
        "    for i, layer in enumerate(model.layers): #Percorre todas as layers\n",
        "        weights = layer.get_weights()\n",
        "        if weights: # Algumas camadas não tem weights então usamos isso\n",
        "            pesos, bias = weights[0], weights[1]\n",
        "            shape_pesos = pesos.shape\n",
        "            shape_bias = bias.shape\n",
        "\n",
        "            nome_pesos = f\"pesos_layer{i}\"\n",
        "            nome_bias = f\"bias_layer{i}\"\n",
        "            nome_shape_pesos = f\"{nome_pesos}_shape\"\n",
        "            nome_shape_bias = f\"{nome_bias}_shape\"\n",
        "\n",
        "            hfile.write(format_array_float(nome_pesos, pesos))\n",
        "            hfile.write(format_array_int(nome_shape_pesos, shape_pesos))\n",
        "            hfile.write(\"\\n\")\n",
        "\n",
        "            hfile.write(format_array_float(nome_bias, bias))\n",
        "            hfile.write(format_array_int(nome_shape_bias, shape_bias))\n",
        "            hfile.write(\"\\n\")\n"
      ],
      "metadata": {
        "id": "JnVBI6SXj0JZ"
      },
      "execution_count": 25,
      "outputs": []
    }
  ]
}